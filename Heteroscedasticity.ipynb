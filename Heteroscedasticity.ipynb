{
 "cells": [
  {
   "cell_type": "code",
   "execution_count": 10,
   "id": "7d8e2f22",
   "metadata": {},
   "outputs": [
    {
     "name": "stdout",
     "output_type": "stream",
     "text": [
      "<class 'pandas.core.frame.DataFrame'>\n",
      "RangeIndex: 50 entries, 0 to 49\n",
      "Data columns (total 16 columns):\n",
      " #   Column  Non-Null Count  Dtype  \n",
      "---  ------  --------------  -----  \n",
      " 0   OBS     50 non-null     int64  \n",
      " 1   E       50 non-null     int64  \n",
      " 2   N       50 non-null     int64  \n",
      " 3   S       50 non-null     int64  \n",
      " 4   W       50 non-null     int64  \n",
      " 5   PCEXP   50 non-null     float64\n",
      " 6   EXP     50 non-null     float64\n",
      " 7   PCAID   50 non-null     int64  \n",
      " 8   AID     50 non-null     float64\n",
      " 9   POP     50 non-null     int64  \n",
      " 10  DEN     50 non-null     float64\n",
      " 11  DPOP    50 non-null     float64\n",
      " 12  URB     50 non-null     float64\n",
      " 13  PCINC   50 non-null     int64  \n",
      " 14  INC     50 non-null     float64\n",
      " 15  PS      50 non-null     int64  \n",
      "dtypes: float64(7), int64(9)\n",
      "memory usage: 6.4 KB\n"
     ]
    }
   ],
   "source": [
    "import pandas as pd\n",
    "data = pd.read_csv('/Users/alexvalentine/Downloads/data_fin.csv')\n",
    "data.describe()\n",
    "data.info()\n",
    "# print(data.to_string()) # Tip: use to_string() to print the entire DataFrame."
   ]
  },
  {
   "cell_type": "markdown",
   "id": "ac80189a",
   "metadata": {},
   "source": [
    "<hr>\n",
    "\n",
    "<div id=\"Apply the Regression Model\">\n",
    "    <h2>Apply the Regression Model</h2>\n",
    "    \n",
    "    \n",
    "Use OLS model\n",
    "</div>\n"
   ]
  },
  {
   "cell_type": "code",
   "execution_count": 3,
   "id": "128b7937",
   "metadata": {},
   "outputs": [
    {
     "data": {
      "text/html": [
       "<table class=\"simpletable\">\n",
       "<caption>OLS Regression Results</caption>\n",
       "<tr>\n",
       "  <th>Dep. Variable:</th>           <td>EXP</td>       <th>  R-squared:         </th> <td>   0.993</td>\n",
       "</tr>\n",
       "<tr>\n",
       "  <th>Model:</th>                   <td>OLS</td>       <th>  Adj. R-squared:    </th> <td>   0.993</td>\n",
       "</tr>\n",
       "<tr>\n",
       "  <th>Method:</th>             <td>Least Squares</td>  <th>  F-statistic:       </th> <td>   2186.</td>\n",
       "</tr>\n",
       "<tr>\n",
       "  <th>Date:</th>             <td>Thu, 15 Dec 2022</td> <th>  Prob (F-statistic):</th> <td>1.35e-49</td>\n",
       "</tr>\n",
       "<tr>\n",
       "  <th>Time:</th>                 <td>12:38:44</td>     <th>  Log-Likelihood:    </th> <td> -365.29</td>\n",
       "</tr>\n",
       "<tr>\n",
       "  <th>No. Observations:</th>      <td>    50</td>      <th>  AIC:               </th> <td>   738.6</td>\n",
       "</tr>\n",
       "<tr>\n",
       "  <th>Df Residuals:</th>          <td>    46</td>      <th>  BIC:               </th> <td>   746.2</td>\n",
       "</tr>\n",
       "<tr>\n",
       "  <th>Df Model:</th>              <td>     3</td>      <th>                     </th>     <td> </td>   \n",
       "</tr>\n",
       "<tr>\n",
       "  <th>Covariance Type:</th>      <td>nonrobust</td>    <th>                     </th>     <td> </td>   \n",
       "</tr>\n",
       "</table>\n",
       "<table class=\"simpletable\">\n",
       "<tr>\n",
       "      <td></td>         <th>coef</th>     <th>std err</th>      <th>t</th>      <th>P>|t|</th>  <th>[0.025</th>    <th>0.975]</th>  \n",
       "</tr>\n",
       "<tr>\n",
       "  <th>Intercept</th> <td>  -45.6983</td> <td>   84.392</td> <td>   -0.542</td> <td> 0.591</td> <td> -215.570</td> <td>  124.173</td>\n",
       "</tr>\n",
       "<tr>\n",
       "  <th>AID</th>       <td>    3.2337</td> <td>    0.238</td> <td>   13.584</td> <td> 0.000</td> <td>    2.755</td> <td>    3.713</td>\n",
       "</tr>\n",
       "<tr>\n",
       "  <th>POP</th>       <td>   -0.5941</td> <td>    0.104</td> <td>   -5.690</td> <td> 0.000</td> <td>   -0.804</td> <td>   -0.384</td>\n",
       "</tr>\n",
       "<tr>\n",
       "  <th>INC</th>       <td>    0.0002</td> <td> 2.35e-05</td> <td>    8.103</td> <td> 0.000</td> <td>    0.000</td> <td>    0.000</td>\n",
       "</tr>\n",
       "</table>\n",
       "<table class=\"simpletable\">\n",
       "<tr>\n",
       "  <th>Omnibus:</th>       <td> 8.970</td> <th>  Durbin-Watson:     </th> <td>   2.017</td>\n",
       "</tr>\n",
       "<tr>\n",
       "  <th>Prob(Omnibus):</th> <td> 0.011</td> <th>  Jarque-Bera (JB):  </th> <td>  13.968</td>\n",
       "</tr>\n",
       "<tr>\n",
       "  <th>Skew:</th>          <td> 0.449</td> <th>  Prob(JB):          </th> <td>0.000926</td>\n",
       "</tr>\n",
       "<tr>\n",
       "  <th>Kurtosis:</th>      <td> 5.429</td> <th>  Cond. No.          </th> <td>4.61e+07</td>\n",
       "</tr>\n",
       "</table><br/><br/>Notes:<br/>[1] Standard Errors assume that the covariance matrix of the errors is correctly specified.<br/>[2] The condition number is large, 4.61e+07. This might indicate that there are<br/>strong multicollinearity or other numerical problems."
      ],
      "text/plain": [
       "<class 'statsmodels.iolib.summary.Summary'>\n",
       "\"\"\"\n",
       "                            OLS Regression Results                            \n",
       "==============================================================================\n",
       "Dep. Variable:                    EXP   R-squared:                       0.993\n",
       "Model:                            OLS   Adj. R-squared:                  0.993\n",
       "Method:                 Least Squares   F-statistic:                     2186.\n",
       "Date:                Thu, 15 Dec 2022   Prob (F-statistic):           1.35e-49\n",
       "Time:                        12:38:44   Log-Likelihood:                -365.29\n",
       "No. Observations:                  50   AIC:                             738.6\n",
       "Df Residuals:                      46   BIC:                             746.2\n",
       "Df Model:                           3                                         \n",
       "Covariance Type:            nonrobust                                         \n",
       "==============================================================================\n",
       "                 coef    std err          t      P>|t|      [0.025      0.975]\n",
       "------------------------------------------------------------------------------\n",
       "Intercept    -45.6983     84.392     -0.542      0.591    -215.570     124.173\n",
       "AID            3.2337      0.238     13.584      0.000       2.755       3.713\n",
       "POP           -0.5941      0.104     -5.690      0.000      -0.804      -0.384\n",
       "INC            0.0002   2.35e-05      8.103      0.000       0.000       0.000\n",
       "==============================================================================\n",
       "Omnibus:                        8.970   Durbin-Watson:                   2.017\n",
       "Prob(Omnibus):                  0.011   Jarque-Bera (JB):               13.968\n",
       "Skew:                           0.449   Prob(JB):                     0.000926\n",
       "Kurtosis:                       5.429   Cond. No.                     4.61e+07\n",
       "==============================================================================\n",
       "\n",
       "Notes:\n",
       "[1] Standard Errors assume that the covariance matrix of the errors is correctly specified.\n",
       "[2] The condition number is large, 4.61e+07. This might indicate that there are\n",
       "strong multicollinearity or other numerical problems.\n",
       "\"\"\""
      ]
     },
     "execution_count": 3,
     "metadata": {},
     "output_type": "execute_result"
    }
   ],
   "source": [
    "import statsmodels.api as sm\n",
    "# defining the variables\n",
    "\n",
    "OBS = data['OBS'].tolist()     # The tolist() function is used to convert a given array to an ordinary list with the same items, elements, or values.\n",
    "E = data['E'].tolist()\n",
    "N = data['N'].tolist()\n",
    "S = data['S'].tolist()\n",
    "W = data['W'].tolist()\n",
    "PCEXP = data['PCEXP'].tolist()\n",
    "EXP = data['EXP'].tolist()\n",
    "PCAID = data['PCAID'].tolist()\n",
    "AID = data['AID'].tolist()\n",
    "POP = data['POP'].tolist()\n",
    "DEN = data['DEN'].tolist()\n",
    "DPOP = data['DPOP'].tolist()\n",
    "URB = data['URB'].tolist()\n",
    "PCINC = data['PCINC'].tolist()\n",
    "INC = data['INC'].tolist()\n",
    "PS = data['PS'].tolist()\n",
    "\n",
    "# regression model\n",
    "import statsmodels.formula.api as smf\n",
    "result = sm.OLS(EXP, AID, POP, INC).fit()\n",
    "result = smf.ols('EXP ~ AID + POP + INC', data = data).fit()\n",
    "result.summary()"
   ]
  },
  {
   "cell_type": "markdown",
   "id": "01613046",
   "metadata": {},
   "source": [
    "<hr>\n",
    "\n",
    "<div id=\"visualization\">\n",
    "    <h2>Visualization</h2>\n",
    "    \n",
    "    \n",
    "Lets visualize the regression\n",
    "</div>\n"
   ]
  },
  {
   "cell_type": "code",
   "execution_count": 4,
   "id": "a0f8be5f",
   "metadata": {},
   "outputs": [
    {
     "data": {
      "image/png": "[encoded data removed]",
      "text/plain": [
       "<Figure size 1080x720 with 4 Axes>"
      ]
     },
     "metadata": {
      "needs_background": "light"
     },
     "output_type": "display_data"
    }
   ],
   "source": [
    "import matplotlib.pyplot as plt\n",
    "#define figure size\n",
    "fig = plt.figure(figsize=(15,10))\n",
    "\n",
    "#produce regression plots\n",
    "fig = sm.graphics.plot_regress_exog(result, 'POP', fig=fig)\n"
   ]
  },
  {
   "cell_type": "markdown",
   "id": "b868195d",
   "metadata": {},
   "source": [
    "<hr>\n",
    "\n",
    "<div id=\"evaluation\">\n",
    "    <h2>Evaluation</h2>\n",
    "    It could be directly seen from the plots that the model is <b>heteroscedastic</b>. We could conduct tests like Goldfeld-Quandt test.  In here, I use the white test.\n",
    "</div>\n"
   ]
  },
  {
   "cell_type": "code",
   "execution_count": 5,
   "id": "fe8f5a9f",
   "metadata": {},
   "outputs": [
    {
     "data": {
      "text/plain": [
       "[('Expenditure data statistic', 20.707760849597275),\n",
       " ('p-value', 0.00012106056666184224),\n",
       " ('f-value', 10.839697097361006),\n",
       " ('f p-value', 1.6602243810889573e-05)]"
      ]
     },
     "execution_count": 5,
     "metadata": {},
     "output_type": "execute_result"
    }
   ],
   "source": [
    "import statsmodels.stats.api as sms\n",
    "from statsmodels.compat import lzip\n",
    "import statsmodels.stats.diagnostic\n",
    "# Conduct the Breusch-Pagan test\n",
    "names = ['Expenditure data statistic', 'p-value',\n",
    "         'f-value', 'f p-value']\n",
    " \n",
    "# Get the test result\n",
    "test_result1 = sms.het_breuschpagan(result.resid, result.model.exog)\n",
    "lzip(names, test_result1)"
   ]
  },
  {
   "cell_type": "code",
   "execution_count": 6,
   "id": "373acdab",
   "metadata": {},
   "outputs": [
    {
     "data": {
      "text/plain": [
       "[('Expenditure data statistic', 27.786151446213246),\n",
       " ('p-value', 0.0005166659534584929),\n",
       " ('f-value', 6.410596786821415),\n",
       " ('f p-value', 2.1783940887920694e-05)]"
      ]
     },
     "execution_count": 6,
     "metadata": {},
     "output_type": "execute_result"
    }
   ],
   "source": [
    "# Conduct the White test\n",
    "test_result2 = statsmodels.stats.diagnostic.het_white(result.resid, result.model.exog)\n",
    "lzip(names, test_result2)"
   ]
  },
  {
   "cell_type": "markdown",
   "id": "dc743c38",
   "metadata": {},
   "source": [
    "<hr>\n",
    "\n",
    "<div id=\"Adjust the Model with Bias\">\n",
    "    <h2>Adjust the Model with Bias</h2>\n",
    "    The changes is obvious in confidence interval.\n",
    "</div>"
   ]
  },
  {
   "cell_type": "code",
   "execution_count": 12,
   "id": "3a988a89",
   "metadata": {},
   "outputs": [
    {
     "data": {
      "text/html": [
       "<table class=\"simpletable\">\n",
       "<caption>OLS Regression Results</caption>\n",
       "<tr>\n",
       "  <th>Dep. Variable:</th>           <td>EXP</td>       <th>  R-squared:         </th> <td>   0.993</td>\n",
       "</tr>\n",
       "<tr>\n",
       "  <th>Model:</th>                   <td>OLS</td>       <th>  Adj. R-squared:    </th> <td>   0.993</td>\n",
       "</tr>\n",
       "<tr>\n",
       "  <th>Method:</th>             <td>Least Squares</td>  <th>  F-statistic:       </th> <td>   995.1</td>\n",
       "</tr>\n",
       "<tr>\n",
       "  <th>Date:</th>             <td>Thu, 15 Dec 2022</td> <th>  Prob (F-statistic):</th> <td>7.99e-42</td>\n",
       "</tr>\n",
       "<tr>\n",
       "  <th>Time:</th>                 <td>12:58:19</td>     <th>  Log-Likelihood:    </th> <td> -365.29</td>\n",
       "</tr>\n",
       "<tr>\n",
       "  <th>No. Observations:</th>      <td>    50</td>      <th>  AIC:               </th> <td>   738.6</td>\n",
       "</tr>\n",
       "<tr>\n",
       "  <th>Df Residuals:</th>          <td>    46</td>      <th>  BIC:               </th> <td>   746.2</td>\n",
       "</tr>\n",
       "<tr>\n",
       "  <th>Df Model:</th>              <td>     3</td>      <th>                     </th>     <td> </td>   \n",
       "</tr>\n",
       "<tr>\n",
       "  <th>Covariance Type:</th>         <td>HC1</td>       <th>                     </th>     <td> </td>   \n",
       "</tr>\n",
       "</table>\n",
       "<table class=\"simpletable\">\n",
       "<tr>\n",
       "      <td></td>         <th>coef</th>     <th>std err</th>      <th>z</th>      <th>P>|z|</th>  <th>[0.025</th>    <th>0.975]</th>  \n",
       "</tr>\n",
       "<tr>\n",
       "  <th>Intercept</th> <td>  -45.6983</td> <td>   56.407</td> <td>   -0.810</td> <td> 0.418</td> <td> -156.253</td> <td>   64.856</td>\n",
       "</tr>\n",
       "<tr>\n",
       "  <th>AID</th>       <td>    3.2337</td> <td>    0.438</td> <td>    7.388</td> <td> 0.000</td> <td>    2.376</td> <td>    4.092</td>\n",
       "</tr>\n",
       "<tr>\n",
       "  <th>POP</th>       <td>   -0.5941</td> <td>    0.115</td> <td>   -5.161</td> <td> 0.000</td> <td>   -0.820</td> <td>   -0.368</td>\n",
       "</tr>\n",
       "<tr>\n",
       "  <th>INC</th>       <td>    0.0002</td> <td> 2.71e-05</td> <td>    7.016</td> <td> 0.000</td> <td>    0.000</td> <td>    0.000</td>\n",
       "</tr>\n",
       "</table>\n",
       "<table class=\"simpletable\">\n",
       "<tr>\n",
       "  <th>Omnibus:</th>       <td> 8.970</td> <th>  Durbin-Watson:     </th> <td>   2.017</td>\n",
       "</tr>\n",
       "<tr>\n",
       "  <th>Prob(Omnibus):</th> <td> 0.011</td> <th>  Jarque-Bera (JB):  </th> <td>  13.968</td>\n",
       "</tr>\n",
       "<tr>\n",
       "  <th>Skew:</th>          <td> 0.449</td> <th>  Prob(JB):          </th> <td>0.000926</td>\n",
       "</tr>\n",
       "<tr>\n",
       "  <th>Kurtosis:</th>      <td> 5.429</td> <th>  Cond. No.          </th> <td>4.61e+07</td>\n",
       "</tr>\n",
       "</table><br/><br/>Notes:<br/>[1] Standard Errors are heteroscedasticity robust (HC1)<br/>[2] The condition number is large, 4.61e+07. This might indicate that there are<br/>strong multicollinearity or other numerical problems."
      ],
      "text/plain": [
       "<class 'statsmodels.iolib.summary.Summary'>\n",
       "\"\"\"\n",
       "                            OLS Regression Results                            \n",
       "==============================================================================\n",
       "Dep. Variable:                    EXP   R-squared:                       0.993\n",
       "Model:                            OLS   Adj. R-squared:                  0.993\n",
       "Method:                 Least Squares   F-statistic:                     995.1\n",
       "Date:                Thu, 15 Dec 2022   Prob (F-statistic):           7.99e-42\n",
       "Time:                        12:58:19   Log-Likelihood:                -365.29\n",
       "No. Observations:                  50   AIC:                             738.6\n",
       "Df Residuals:                      46   BIC:                             746.2\n",
       "Df Model:                           3                                         \n",
       "Covariance Type:                  HC1                                         \n",
       "==============================================================================\n",
       "                 coef    std err          z      P>|z|      [0.025      0.975]\n",
       "------------------------------------------------------------------------------\n",
       "Intercept    -45.6983     56.407     -0.810      0.418    -156.253      64.856\n",
       "AID            3.2337      0.438      7.388      0.000       2.376       4.092\n",
       "POP           -0.5941      0.115     -5.161      0.000      -0.820      -0.368\n",
       "INC            0.0002   2.71e-05      7.016      0.000       0.000       0.000\n",
       "==============================================================================\n",
       "Omnibus:                        8.970   Durbin-Watson:                   2.017\n",
       "Prob(Omnibus):                  0.011   Jarque-Bera (JB):               13.968\n",
       "Skew:                           0.449   Prob(JB):                     0.000926\n",
       "Kurtosis:                       5.429   Cond. No.                     4.61e+07\n",
       "==============================================================================\n",
       "\n",
       "Notes:\n",
       "[1] Standard Errors are heteroscedasticity robust (HC1)\n",
       "[2] The condition number is large, 4.61e+07. This might indicate that there are\n",
       "strong multicollinearity or other numerical problems.\n",
       "\"\"\""
      ]
     },
     "execution_count": 12,
     "metadata": {},
     "output_type": "execute_result"
    }
   ],
   "source": [
    "# calculate confidence interval\n",
    "# robust standard error\n",
    "# result_robust = sm.OLS(EXP, AID, POP, INC).fit(cov_type='HC1')\n",
    "result_robust = smf.ols('EXP ~ AID + POP + INC', data = data).fit(cov_type='HC1')\n",
    "result_robust.summary()"
   ]
  },
  {
   "cell_type": "code",
   "execution_count": 13,
   "id": "8cd2fced",
   "metadata": {},
   "outputs": [
    {
     "data": {
      "text/html": [
       "<div>\n",
       "<style scoped>\n",
       "    .dataframe tbody tr th:only-of-type {\n",
       "        vertical-align: middle;\n",
       "    }\n",
       "\n",
       "    .dataframe tbody tr th {\n",
       "        vertical-align: top;\n",
       "    }\n",
       "\n",
       "    .dataframe thead th {\n",
       "        text-align: right;\n",
       "    }\n",
       "</style>\n",
       "<table border=\"1\" class=\"dataframe\">\n",
       "  <thead>\n",
       "    <tr style=\"text-align: right;\">\n",
       "      <th></th>\n",
       "      <th>0</th>\n",
       "      <th>1</th>\n",
       "    </tr>\n",
       "  </thead>\n",
       "  <tbody>\n",
       "    <tr>\n",
       "      <th>Intercept</th>\n",
       "      <td>-156.253130</td>\n",
       "      <td>64.856479</td>\n",
       "    </tr>\n",
       "    <tr>\n",
       "      <th>AID</th>\n",
       "      <td>2.375883</td>\n",
       "      <td>4.091611</td>\n",
       "    </tr>\n",
       "    <tr>\n",
       "      <th>POP</th>\n",
       "      <td>-0.819696</td>\n",
       "      <td>-0.368455</td>\n",
       "    </tr>\n",
       "    <tr>\n",
       "      <th>INC</th>\n",
       "      <td>0.000137</td>\n",
       "      <td>0.000243</td>\n",
       "    </tr>\n",
       "  </tbody>\n",
       "</table>\n",
       "</div>"
      ],
      "text/plain": [
       "                    0          1\n",
       "Intercept -156.253130  64.856479\n",
       "AID          2.375883   4.091611\n",
       "POP         -0.819696  -0.368455\n",
       "INC          0.000137   0.000243"
      ]
     },
     "execution_count": 13,
     "metadata": {},
     "output_type": "execute_result"
    }
   ],
   "source": [
    "result_robust.conf_int()"
   ]
  },
  {
   "cell_type": "code",
   "execution_count": 8,
   "id": "d8bc70ef",
   "metadata": {},
   "outputs": [
    {
     "data": {
      "text/html": [
       "<div>\n",
       "<style scoped>\n",
       "    .dataframe tbody tr th:only-of-type {\n",
       "        vertical-align: middle;\n",
       "    }\n",
       "\n",
       "    .dataframe tbody tr th {\n",
       "        vertical-align: top;\n",
       "    }\n",
       "\n",
       "    .dataframe thead th {\n",
       "        text-align: right;\n",
       "    }\n",
       "</style>\n",
       "<table border=\"1\" class=\"dataframe\">\n",
       "  <thead>\n",
       "    <tr style=\"text-align: right;\">\n",
       "      <th></th>\n",
       "      <th>0</th>\n",
       "      <th>1</th>\n",
       "    </tr>\n",
       "  </thead>\n",
       "  <tbody>\n",
       "    <tr>\n",
       "      <th>Intercept</th>\n",
       "      <td>-215.569985</td>\n",
       "      <td>124.173333</td>\n",
       "    </tr>\n",
       "    <tr>\n",
       "      <th>AID</th>\n",
       "      <td>2.754569</td>\n",
       "      <td>3.712925</td>\n",
       "    </tr>\n",
       "    <tr>\n",
       "      <th>POP</th>\n",
       "      <td>-0.804220</td>\n",
       "      <td>-0.383931</td>\n",
       "    </tr>\n",
       "    <tr>\n",
       "      <th>INC</th>\n",
       "      <td>0.000143</td>\n",
       "      <td>0.000237</td>\n",
       "    </tr>\n",
       "  </tbody>\n",
       "</table>\n",
       "</div>"
      ],
      "text/plain": [
       "                    0           1\n",
       "Intercept -215.569985  124.173333\n",
       "AID          2.754569    3.712925\n",
       "POP         -0.804220   -0.383931\n",
       "INC          0.000143    0.000237"
      ]
     },
     "execution_count": 8,
     "metadata": {},
     "output_type": "execute_result"
    }
   ],
   "source": [
    "result.conf_int()"
   ]
  },
  {
   "cell_type": "code",
   "execution_count": null,
   "id": "2bcc6fe9",
   "metadata": {},
   "outputs": [],
   "source": [
    "#https://github.com/UtaHagen"
   ]
  }
 ],
 "metadata": {
  "kernelspec": {
   "display_name": "Python 3 (ipykernel)",
   "language": "python",
   "name": "python3"
  },
  "language_info": {
   "codemirror_mode": {
    "name": "ipython",
    "version": 3
   },
   "file_extension": ".py",
   "mimetype": "text/x-python",
   "name": "python",
   "nbconvert_exporter": "python",
   "pygments_lexer": "ipython3",
   "version": "3.9.7"
  }
 },
 "nbformat": 4,
 "nbformat_minor": 5
}
